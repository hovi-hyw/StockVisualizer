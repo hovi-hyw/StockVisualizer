{
 "cells": [
  {
   "cell_type": "code",
   "execution_count": null,
   "id": "initial_id",
   "metadata": {
    "collapsed": true
   },
   "outputs": [],
   "source": [
    "%pip install akshare"
   ]
  },
  {
   "cell_type": "code",
   "execution_count": null,
   "id": "7ee38d2c",
   "metadata": {
    "ExecuteTime": {
     "end_time": "2025-05-12T01:51:00.336734Z",
     "start_time": "2025-05-12T01:50:58.481652Z"
    }
   },
   "outputs": [],
   "source": [
    "import akshare as ak\n",
    "# 使用 stock_board_industry_name_em() 获取行业板块实时行情\n",
    "ak.stock_board_industry_name_em()"
   ]
  },
  {
   "cell_type": "code",
   "execution_count": null,
   "id": "5ce72fed",
   "metadata": {},
   "outputs": [],
   "source": [
    "ak.stock_board_industry_hist_em(symbol=\"BK0729\")"
   ]
  }
 ],
 "metadata": {
  "kernelspec": {
   "display_name": "stock_env",
   "language": "python",
   "name": "python3"
  },
  "language_info": {
   "codemirror_mode": {
    "name": "ipython",
    "version": 3
   },
   "file_extension": ".py",
   "mimetype": "text/x-python",
   "name": "python",
   "nbconvert_exporter": "python",
   "pygments_lexer": "ipython3",
   "version": "3.13.1"
  }
 },
 "nbformat": 4,
 "nbformat_minor": 5
}
